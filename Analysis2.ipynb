{
 "cells": [
  {
   "cell_type": "markdown",
   "metadata": {},
   "source": [
    "### Analysis on `df_w_matrix.csv`\n",
    "#### Load data and import packages"
   ]
  },
  {
   "cell_type": "code",
   "execution_count": 1,
   "metadata": {},
   "outputs": [],
   "source": [
    "import pandas as pd\n",
    "import numpy as np\n",
    "import matplotlib.pyplot as plt"
   ]
  },
  {
   "cell_type": "code",
   "execution_count": 2,
   "metadata": {},
   "outputs": [
    {
     "data": {
      "text/plain": [
       "(231259, 262)"
      ]
     },
     "execution_count": 2,
     "metadata": {},
     "output_type": "execute_result"
    }
   ],
   "source": [
    "df = pd.read_csv('df_w_matrix.csv')\n",
    "df.shape"
   ]
  },
  {
   "cell_type": "markdown",
   "metadata": {},
   "source": [
    "#### Clean our data first. Delete country names that occurs less than 20 times.\n",
    "##### (We cannot rely on data occurring less than 20 times)"
   ]
  },
  {
   "cell_type": "code",
   "execution_count": 3,
   "metadata": {},
   "outputs": [
    {
     "data": {
      "text/plain": [
       "Index(['aruba', 'afghanistan', 'angola', 'anguilla', 'åland islands',\n",
       "       'albania', 'andorra', 'united arab emirates', 'argentina', 'armenia',\n",
       "       ...\n",
       "       'samoa', 'yemen', 'south africa', 'zambia', 'zimbabwe', 'vietnam', 'US',\n",
       "       'uk', 'un', 'europe'],\n",
       "      dtype='object', length=254)"
      ]
     },
     "execution_count": 3,
     "metadata": {},
     "output_type": "execute_result"
    }
   ],
   "source": [
    "df.columns[8:]"
   ]
  },
  {
   "cell_type": "code",
   "execution_count": 4,
   "metadata": {},
   "outputs": [
    {
     "name": "stdout",
     "output_type": "stream",
     "text": [
      "105\n"
     ]
    },
    {
     "data": {
      "text/plain": [
       "['aruba',\n",
       " 'anguilla',\n",
       " 'åland islands',\n",
       " 'andorra',\n",
       " 'united arab emirates',\n",
       " 'american samoa',\n",
       " 'french southern territories',\n",
       " 'antigua and barbuda',\n",
       " 'bonaire, sint eustatius and saba',\n",
       " 'burkina faso']"
      ]
     },
     "execution_count": 4,
     "metadata": {},
     "output_type": "execute_result"
    }
   ],
   "source": [
    "del_ls = [] # A list of country names that needs deleting.\n",
    "for country in df.columns[8:]:\n",
    "    if sum(df[country])<=20:\n",
    "        del_ls.append(country)\n",
    "print(len(del_ls))\n",
    "del_ls[:10]"
   ]
  },
  {
   "cell_type": "code",
   "execution_count": 5,
   "metadata": {},
   "outputs": [
    {
     "data": {
      "text/plain": [
       "(231259, 157)"
      ]
     },
     "execution_count": 5,
     "metadata": {},
     "output_type": "execute_result"
    }
   ],
   "source": [
    "for country in del_ls:\n",
    "    del df[country]\n",
    "df.shape"
   ]
  },
  {
   "cell_type": "markdown",
   "metadata": {},
   "source": [
    "#### Construct dataframe `star` of `'up_votes'` and word frequency"
   ]
  },
  {
   "cell_type": "code",
   "execution_count": 6,
   "metadata": {},
   "outputs": [
    {
     "data": {
      "text/plain": [
       "['up_votes', 'afghanistan', 'angola', 'albania', 'argentina']"
      ]
     },
     "execution_count": 6,
     "metadata": {},
     "output_type": "execute_result"
    }
   ],
   "source": [
    "str1 = ['up_votes']\n",
    "str1.extend(list(df.columns[8:]))\n",
    "str1[:5]"
   ]
  },
  {
   "cell_type": "code",
   "execution_count": 7,
   "metadata": {},
   "outputs": [
    {
     "data": {
      "text/html": [
       "<div>\n",
       "<style scoped>\n",
       "    .dataframe tbody tr th:only-of-type {\n",
       "        vertical-align: middle;\n",
       "    }\n",
       "\n",
       "    .dataframe tbody tr th {\n",
       "        vertical-align: top;\n",
       "    }\n",
       "\n",
       "    .dataframe thead th {\n",
       "        text-align: right;\n",
       "    }\n",
       "</style>\n",
       "<table border=\"1\" class=\"dataframe\">\n",
       "  <thead>\n",
       "    <tr style=\"text-align: right;\">\n",
       "      <th></th>\n",
       "      <th>up_votes</th>\n",
       "      <th>afghanistan</th>\n",
       "      <th>angola</th>\n",
       "      <th>albania</th>\n",
       "      <th>argentina</th>\n",
       "      <th>armenia</th>\n",
       "      <th>antarctica</th>\n",
       "      <th>australia</th>\n",
       "      <th>austria</th>\n",
       "      <th>azerbaijan</th>\n",
       "      <th>...</th>\n",
       "      <th>vanuatu</th>\n",
       "      <th>samoa</th>\n",
       "      <th>yemen</th>\n",
       "      <th>zambia</th>\n",
       "      <th>zimbabwe</th>\n",
       "      <th>vietnam</th>\n",
       "      <th>US</th>\n",
       "      <th>uk</th>\n",
       "      <th>un</th>\n",
       "      <th>europe</th>\n",
       "    </tr>\n",
       "  </thead>\n",
       "  <tbody>\n",
       "    <tr>\n",
       "      <th>0</th>\n",
       "      <td>3</td>\n",
       "      <td>0.0</td>\n",
       "      <td>0.0</td>\n",
       "      <td>0.0</td>\n",
       "      <td>0.0</td>\n",
       "      <td>0.0</td>\n",
       "      <td>0.0</td>\n",
       "      <td>0.0</td>\n",
       "      <td>0.0</td>\n",
       "      <td>0.0</td>\n",
       "      <td>...</td>\n",
       "      <td>0.0</td>\n",
       "      <td>0.0</td>\n",
       "      <td>0.0</td>\n",
       "      <td>0.0</td>\n",
       "      <td>0.0</td>\n",
       "      <td>0.0</td>\n",
       "      <td>0.0</td>\n",
       "      <td>0.0</td>\n",
       "      <td>0.0</td>\n",
       "      <td>0.0</td>\n",
       "    </tr>\n",
       "    <tr>\n",
       "      <th>1</th>\n",
       "      <td>2</td>\n",
       "      <td>0.0</td>\n",
       "      <td>0.0</td>\n",
       "      <td>0.0</td>\n",
       "      <td>0.0</td>\n",
       "      <td>0.0</td>\n",
       "      <td>0.0</td>\n",
       "      <td>0.0</td>\n",
       "      <td>0.0</td>\n",
       "      <td>0.0</td>\n",
       "      <td>...</td>\n",
       "      <td>0.0</td>\n",
       "      <td>0.0</td>\n",
       "      <td>0.0</td>\n",
       "      <td>0.0</td>\n",
       "      <td>0.0</td>\n",
       "      <td>0.0</td>\n",
       "      <td>0.0</td>\n",
       "      <td>0.0</td>\n",
       "      <td>0.0</td>\n",
       "      <td>0.0</td>\n",
       "    </tr>\n",
       "    <tr>\n",
       "      <th>2</th>\n",
       "      <td>3</td>\n",
       "      <td>0.0</td>\n",
       "      <td>0.0</td>\n",
       "      <td>0.0</td>\n",
       "      <td>0.0</td>\n",
       "      <td>0.0</td>\n",
       "      <td>0.0</td>\n",
       "      <td>0.0</td>\n",
       "      <td>0.0</td>\n",
       "      <td>0.0</td>\n",
       "      <td>...</td>\n",
       "      <td>0.0</td>\n",
       "      <td>0.0</td>\n",
       "      <td>0.0</td>\n",
       "      <td>0.0</td>\n",
       "      <td>0.0</td>\n",
       "      <td>0.0</td>\n",
       "      <td>1.0</td>\n",
       "      <td>0.0</td>\n",
       "      <td>0.0</td>\n",
       "      <td>0.0</td>\n",
       "    </tr>\n",
       "    <tr>\n",
       "      <th>3</th>\n",
       "      <td>4</td>\n",
       "      <td>0.0</td>\n",
       "      <td>0.0</td>\n",
       "      <td>0.0</td>\n",
       "      <td>0.0</td>\n",
       "      <td>0.0</td>\n",
       "      <td>0.0</td>\n",
       "      <td>0.0</td>\n",
       "      <td>0.0</td>\n",
       "      <td>0.0</td>\n",
       "      <td>...</td>\n",
       "      <td>0.0</td>\n",
       "      <td>0.0</td>\n",
       "      <td>0.0</td>\n",
       "      <td>0.0</td>\n",
       "      <td>0.0</td>\n",
       "      <td>0.0</td>\n",
       "      <td>0.0</td>\n",
       "      <td>0.0</td>\n",
       "      <td>0.0</td>\n",
       "      <td>1.0</td>\n",
       "    </tr>\n",
       "    <tr>\n",
       "      <th>4</th>\n",
       "      <td>0</td>\n",
       "      <td>0.0</td>\n",
       "      <td>0.0</td>\n",
       "      <td>0.0</td>\n",
       "      <td>0.0</td>\n",
       "      <td>0.0</td>\n",
       "      <td>0.0</td>\n",
       "      <td>0.0</td>\n",
       "      <td>0.0</td>\n",
       "      <td>0.0</td>\n",
       "      <td>...</td>\n",
       "      <td>0.0</td>\n",
       "      <td>0.0</td>\n",
       "      <td>0.0</td>\n",
       "      <td>0.0</td>\n",
       "      <td>0.0</td>\n",
       "      <td>0.0</td>\n",
       "      <td>0.0</td>\n",
       "      <td>0.0</td>\n",
       "      <td>1.0</td>\n",
       "      <td>0.0</td>\n",
       "    </tr>\n",
       "  </tbody>\n",
       "</table>\n",
       "<p>5 rows × 150 columns</p>\n",
       "</div>"
      ],
      "text/plain": [
       "   up_votes  afghanistan  angola  albania  argentina  armenia  antarctica  \\\n",
       "0         3          0.0     0.0      0.0        0.0      0.0         0.0   \n",
       "1         2          0.0     0.0      0.0        0.0      0.0         0.0   \n",
       "2         3          0.0     0.0      0.0        0.0      0.0         0.0   \n",
       "3         4          0.0     0.0      0.0        0.0      0.0         0.0   \n",
       "4         0          0.0     0.0      0.0        0.0      0.0         0.0   \n",
       "\n",
       "   australia  austria  azerbaijan  ...  vanuatu  samoa  yemen  zambia  \\\n",
       "0        0.0      0.0         0.0  ...      0.0    0.0    0.0     0.0   \n",
       "1        0.0      0.0         0.0  ...      0.0    0.0    0.0     0.0   \n",
       "2        0.0      0.0         0.0  ...      0.0    0.0    0.0     0.0   \n",
       "3        0.0      0.0         0.0  ...      0.0    0.0    0.0     0.0   \n",
       "4        0.0      0.0         0.0  ...      0.0    0.0    0.0     0.0   \n",
       "\n",
       "   zimbabwe  vietnam   US   uk   un  europe  \n",
       "0       0.0      0.0  0.0  0.0  0.0     0.0  \n",
       "1       0.0      0.0  0.0  0.0  0.0     0.0  \n",
       "2       0.0      0.0  1.0  0.0  0.0     0.0  \n",
       "3       0.0      0.0  0.0  0.0  0.0     1.0  \n",
       "4       0.0      0.0  0.0  0.0  1.0     0.0  \n",
       "\n",
       "[5 rows x 150 columns]"
      ]
     },
     "execution_count": 7,
     "metadata": {},
     "output_type": "execute_result"
    }
   ],
   "source": [
    "star = df[str1]\n",
    "star.head()"
   ]
  },
  {
   "cell_type": "markdown",
   "metadata": {},
   "source": [
    "#### Analysis\n",
    "Take a general look at the distribution of the `up_votes` and the mean."
   ]
  },
  {
   "cell_type": "code",
   "execution_count": 8,
   "metadata": {},
   "outputs": [
    {
     "data": {
      "image/png": "[encoded data removed]",
      "text/plain": [
       "<Figure size 432x288 with 1 Axes>"
      ]
     },
     "metadata": {
      "needs_background": "light"
     },
     "output_type": "display_data"
    }
   ],
   "source": [
    "plt.hist(star['up_votes'],1000)\n",
    "plt.xlim(0,200)\n",
    "plt.show()"
   ]
  },
  {
   "cell_type": "code",
   "execution_count": 9,
   "metadata": {},
   "outputs": [
    {
     "data": {
      "text/plain": [
       "110.49527585953412"
      ]
     },
     "execution_count": 9,
     "metadata": {},
     "output_type": "execute_result"
    }
   ],
   "source": [
    "mean_score = np.mean(star['up_votes'])\n",
    "mean_score"
   ]
  },
  {
   "cell_type": "markdown",
   "metadata": {},
   "source": [
    "The mean of the `'up_votes'` is around 110.\n",
    "Now, construct two lists `mean_ls` and `freq_ls`, storing mean `'up_votes'` and total occurance for every country in the articles respectively."
   ]
  },
  {
   "cell_type": "code",
   "execution_count": 14,
   "metadata": {},
   "outputs": [
    {
     "name": "stdout",
     "output_type": "stream",
     "text": [
      "149\n",
      "149\n"
     ]
    }
   ],
   "source": [
    "mean_ls = []\n",
    "freq_ls = []\n",
    "\n",
    "for country in star.columns[1:]:\n",
    "    mean_ls.append(np.mean(star['up_votes'][star[country]!=0]))\n",
    "    freq_ls.append(np.sum(star['up_votes'][star[country]!=0]))\n",
    "    \n",
    "print(len(mean_ls))\n",
    "print(len(freq_ls))"
   ]
  },
  {
   "cell_type": "code",
   "execution_count": 24,
   "metadata": {},
   "outputs": [
    {
     "data": {
      "image/png": "[encoded data removed]",
      "text/plain": [
       "<Figure size 432x288 with 2 Axes>"
      ]
     },
     "metadata": {
      "needs_background": "light"
     },
     "output_type": "display_data"
    }
   ],
   "source": [
    "plt.subplot(121)\n",
    "plt.scatter(x=range(len(mean_ls)), y=mean_ls)\n",
    "plt.hlines(mean_score,0,150,colors = 'r',linestyles = 'dashed')\n",
    "plt.title('Mean \\'up_votes\\' Plot')\n",
    "\n",
    "plt.subplot(122)\n",
    "plt.scatter(x=range(len(freq_ls)), y=freq_ls, color = 'g')\n",
    "plt.hlines(np.mean(freq_ls),0,150,colors = 'r',linestyles = 'dashed')\n",
    "plt.title('Country Frequency Plot')\n",
    "\n",
    "plt.tight_layout()\n",
    "plt.show()"
   ]
  },
  {
   "cell_type": "markdown",
   "metadata": {},
   "source": [
    "#### Construct a dataframe `new_df` of columns of country names, `mean_ls` and `freq_ls`."
   ]
  },
  {
   "cell_type": "code",
   "execution_count": 31,
   "metadata": {},
   "outputs": [
    {
     "data": {
      "text/html": [
       "<div>\n",
       "<style scoped>\n",
       "    .dataframe tbody tr th:only-of-type {\n",
       "        vertical-align: middle;\n",
       "    }\n",
       "\n",
       "    .dataframe tbody tr th {\n",
       "        vertical-align: top;\n",
       "    }\n",
       "\n",
       "    .dataframe thead th {\n",
       "        text-align: right;\n",
       "    }\n",
       "</style>\n",
       "<table border=\"1\" class=\"dataframe\">\n",
       "  <thead>\n",
       "    <tr style=\"text-align: right;\">\n",
       "      <th></th>\n",
       "      <th>country</th>\n",
       "      <th>mean_votes</th>\n",
       "      <th>freq</th>\n",
       "    </tr>\n",
       "  </thead>\n",
       "  <tbody>\n",
       "    <tr>\n",
       "      <th>0</th>\n",
       "      <td>afghanistan</td>\n",
       "      <td>74.207822</td>\n",
       "      <td>326366</td>\n",
       "    </tr>\n",
       "    <tr>\n",
       "      <th>1</th>\n",
       "      <td>angola</td>\n",
       "      <td>55.208696</td>\n",
       "      <td>6349</td>\n",
       "    </tr>\n",
       "    <tr>\n",
       "      <th>2</th>\n",
       "      <td>albania</td>\n",
       "      <td>27.607143</td>\n",
       "      <td>3092</td>\n",
       "    </tr>\n",
       "    <tr>\n",
       "      <th>3</th>\n",
       "      <td>argentina</td>\n",
       "      <td>85.713223</td>\n",
       "      <td>103713</td>\n",
       "    </tr>\n",
       "    <tr>\n",
       "      <th>4</th>\n",
       "      <td>armenia</td>\n",
       "      <td>82.510638</td>\n",
       "      <td>23268</td>\n",
       "    </tr>\n",
       "  </tbody>\n",
       "</table>\n",
       "</div>"
      ],
      "text/plain": [
       "       country  mean_votes    freq\n",
       "0  afghanistan   74.207822  326366\n",
       "1       angola   55.208696    6349\n",
       "2      albania   27.607143    3092\n",
       "3    argentina   85.713223  103713\n",
       "4      armenia   82.510638   23268"
      ]
     },
     "execution_count": 31,
     "metadata": {},
     "output_type": "execute_result"
    }
   ],
   "source": [
    "new_df = pd.DataFrame({'country' : star.columns[1:],\n",
    "                       'mean_votes' : mean_ls,\n",
    "                       'freq' : freq_ls})\n",
    "new_df.head()"
   ]
  },
  {
   "cell_type": "code",
   "execution_count": 35,
   "metadata": {},
   "outputs": [
    {
     "data": {
      "text/plain": [
       "array([  7.35135135,  24.13286713,  27.60714286,  32.13114754,\n",
       "        35.40677966,  35.97552448,  36.41501976,  38.86046512,\n",
       "        40.70501059,  41.8452381 ,  42.38636364,  43.11395541,\n",
       "        43.8121533 ,  43.82544379,  43.82940802,  44.55555556,\n",
       "        45.30612245,  45.5741342 ,  46.77957861,  47.5       ,\n",
       "        47.65333333,  47.9266055 ,  49.19230769,  49.45121951,\n",
       "        50.25490196,  50.46590909,  51.38396624,  54.33333333,\n",
       "        54.88640275,  55.20869565,  55.68396226,  56.86619718,\n",
       "        57.89784946,  57.94264339,  58.73222749,  58.7955665 ,\n",
       "        60.75595238,  64.3428934 ,  64.84539097,  66.15533981,\n",
       "        67.19270833,  67.66280992,  69.35955056,  70.21558442,\n",
       "        71.13858696,  71.45967191,  71.90138963,  72.03050079,\n",
       "        72.60629921,  74.20782174,  75.27884615,  75.43119266,\n",
       "        75.62068966,  76.63247863,  81.8172378 ,  82.5       ,\n",
       "        82.5106383 ,  85.19090098,  85.59902867,  85.71322314,\n",
       "        85.96725014,  86.54316547,  86.90993072,  86.95952381,\n",
       "        87.42680667,  87.61942675,  88.47716895,  89.06721163,\n",
       "        89.76470588,  90.11875   ,  90.44206009,  90.45084996,\n",
       "        91.28449036,  92.59171598,  96.40540541,  97.7348963 ,\n",
       "        98.42567568,  99.26984127, 100.02571429, 100.46923077,\n",
       "       100.6617313 , 100.86934115, 101.02272727, 104.1868807 ,\n",
       "       105.09308943, 106.9010101 , 107.97098976, 110.50304013,\n",
       "       110.81146813, 113.33944954, 113.95172414, 114.10687961,\n",
       "       115.49402047, 115.55      , 117.05633803, 118.02857143,\n",
       "       118.30846325, 118.38636364, 119.22173275, 119.56934307,\n",
       "       119.69892473, 125.94545455, 127.20754717, 130.33534568,\n",
       "       130.4393531 , 131.08804205, 133.47439759, 133.77714286,\n",
       "       135.58152174, 142.27699531, 143.53555728, 143.98019802,\n",
       "       146.42810429, 148.40437158, 150.05037159, 151.75757576,\n",
       "       152.10687023, 153.27567568, 155.04545455, 156.37171286,\n",
       "       157.77192982, 163.78367347, 164.71938668, 164.86180422,\n",
       "       167.75      , 172.3877551 , 179.0979021 , 185.81259843,\n",
       "       187.42937853, 192.73461012, 197.04516129, 198.92912041,\n",
       "       215.89815818, 219.10281236, 219.2749004 , 222.03365033,\n",
       "       222.99078341, 231.96721311, 235.13214286, 235.38518519,\n",
       "       241.54441041, 257.6863711 , 263.18348624, 294.6       ,\n",
       "       298.3427673 , 303.1483871 , 303.88650307, 322.57669441,\n",
       "       428.625     ])"
      ]
     },
     "execution_count": 35,
     "metadata": {},
     "output_type": "execute_result"
    }
   ],
   "source": []
  },
  {
   "cell_type": "code",
   "execution_count": null,
   "metadata": {},
   "outputs": [],
   "source": []
  }
 ],
 "metadata": {
  "kernelspec": {
   "display_name": "Python 3",
   "language": "python",
   "name": "python3"
  },
  "language_info": {
   "codemirror_mode": {
    "name": "ipython",
    "version": 3
   },
   "file_extension": ".py",
   "mimetype": "text/x-python",
   "name": "python",
   "nbconvert_exporter": "python",
   "pygments_lexer": "ipython3",
   "version": "3.8.5"
  }
 },
 "nbformat": 4,
 "nbformat_minor": 4
}
